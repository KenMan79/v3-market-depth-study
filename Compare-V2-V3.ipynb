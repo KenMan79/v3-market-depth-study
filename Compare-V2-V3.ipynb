{
 "cells": [
  {
   "cell_type": "code",
   "execution_count": 1,
   "id": "df3dd655",
   "metadata": {},
   "outputs": [],
   "source": [
    "import seaborn as sns\n",
    "import numpy as np\n",
    "import matplotlib.pyplot as plt\n",
    "import pandas as pd\n",
    "import datetime\n",
    "import os\n",
    "%matplotlib inline\n",
    "from importlib import reload\n",
    "import depthutil2 as dpu\n",
    "import graphql_getpoolstat\n",
    "reload(graphql_getpoolstat)\n",
    "reload(dpu)\n",
    "from tqdm import tqdm\n",
    "from depthutil2 import *"
   ]
  },
  {
   "cell_type": "code",
   "execution_count": 2,
   "id": "bc9eb6ec",
   "metadata": {},
   "outputs": [],
   "source": [
    "address='0x88e6a0c2ddd26feeb64f039a2c41296fcb3f5640'"
   ]
  },
  {
   "cell_type": "code",
   "execution_count": 3,
   "id": "9bd305e2",
   "metadata": {},
   "outputs": [],
   "source": [
    "address='0x5777d92f208679db4b9778590fa3cab3ac9e2168' # usdc dai"
   ]
  },
  {
   "cell_type": "code",
   "execution_count": 2,
   "id": "a1386441",
   "metadata": {},
   "outputs": [],
   "source": [
    "address='0x8ad599c3a0ff1de082011efddc58f1908eb6e6d8' # usdc eth"
   ]
  },
  {
   "cell_type": "code",
   "execution_count": 3,
   "id": "3867543f",
   "metadata": {
    "scrolled": true
   },
   "outputs": [
    {
     "name": "stdout",
     "output_type": "stream",
     "text": [
      "USDC 6 WETH 18 3000 60\n"
     ]
    }
   ],
   "source": [
    "# Load data\n",
    "filein = 'data/mintburnall_bigquery.csv'\n",
    "poolstats=graphql_getpoolstat.subgraph_getpoolstats(address)\n",
    "decimals0=int(poolstats['token0']['decimals'])\n",
    "decimals1=int(poolstats['token1']['decimals'])\n",
    "symbol0=poolstats['token0']['symbol']\n",
    "symbol1=poolstats['token1']['symbol']\n",
    "feeTier=int(poolstats['feeTier'])\n",
    "ts=feetier2tickspacing(feeTier)\n",
    "print(symbol0,decimals0, symbol1, decimals1,feeTier,ts)\n",
    "\n",
    "\n",
    "df = pd.read_csv(filein, dtype={'amount': float, 'amount0': float, 'amount1': float})\n",
    "df = df.loc[df.address == address]\n",
    "df = df.loc[df.amount!=0]\n",
    "df[\"date\"] = pd.to_datetime(df.block_timestamp).dt.date\n",
    "df=df.sort_values('block_number')\n",
    "\n",
    "\n",
    "fileprice='tickprice_%s.csv' % address\n",
    "if (not(os.path.exists(fileprice))):\n",
    "    print('getting prices:')\n",
    "    bndate=df.loc[df.amount!=0].groupby('date').block_number.last()\n",
    "    bndate.to_csv('tmp_bndate.csv')\n",
    "    os.system('python3.9 graphql_getprice.py %s %s' % (address,'tmp_bndate.csv'))\n",
    "\n",
    "dfprice=pd.read_csv(fileprice)[['bn','token0Price','tick']].rename(columns={'bn':'block_number','token0Price':'price','tick':'currenttick'})\n",
    "\n",
    "# dfprice.plot('block_number','price')"
   ]
  },
  {
   "cell_type": "code",
   "execution_count": 4,
   "id": "a797bb7d",
   "metadata": {},
   "outputs": [],
   "source": [
    "# calculate \n",
    "# reduce size of range if 1tick spacing\n",
    "if(ts==1):\n",
    "    df=LimitTickRange(df,dfprice,nstd=5).copy()\n",
    "dfl = genLiqRange(df,ts=ts)\n",
    "dfl['block_timestamp']=pd.to_datetime(dfl.block_timestamp)\n",
    "dfl['date']=dfl.block_timestamp.dt.date\n",
    "dfm=pd.merge(dfl,dfprice,on='block_number',how='left').dropna()\n",
    "\n",
    "dfl=LimitTickRange(dfl,dfprice,nstd=5).copy()"
   ]
  },
  {
   "cell_type": "markdown",
   "id": "e408c1a6",
   "metadata": {},
   "source": [
    "## Comparison of v3 vs equivalent v2 for single date cross-section"
   ]
  },
  {
   "cell_type": "code",
   "execution_count": 5,
   "id": "8db69b30",
   "metadata": {},
   "outputs": [],
   "source": [
    "dfmS=dfm.loc[dfm.block_number==dfm.block_number.max()]"
   ]
  },
  {
   "cell_type": "code",
   "execution_count": 6,
   "id": "378182d9",
   "metadata": {},
   "outputs": [],
   "source": [
    "delta=np.round(np.arange(-.1,.11,.01)/.01)*.01"
   ]
  },
  {
   "cell_type": "code",
   "execution_count": 7,
   "id": "bf3a2e64",
   "metadata": {},
   "outputs": [],
   "source": [
    "# v3\n",
    "depthv3XC=genMarketDepthCrossSection(dfmS,decimals0=decimals0,ts=ts,pctchg=delta).rename(columns={'marketdepth':'v3depth'})"
   ]
  },
  {
   "cell_type": "code",
   "execution_count": 8,
   "id": "6b809a66",
   "metadata": {},
   "outputs": [],
   "source": [
    "# v2\n",
    "liqtmp=genLiqRangeXNumeraire(dfmS,tickspacing=ts,decimals0=decimals0,decimals1=decimals1,pricemode=0)\n",
    "\n",
    "tdl=liqtmp.liqX.sum()\n",
    "p=liqtmp.p.iloc[0]/(10**(decimals1-decimals0))\n",
    "\n",
    "depthv2=calcV2DepthfromTDL(total_deposit_locked=tdl,p=p,delta=delta)"
   ]
  },
  {
   "cell_type": "code",
   "execution_count": 42,
   "id": "2d17f5cc",
   "metadata": {},
   "outputs": [
    {
     "data": {
      "image/png": "[encoded data removed]",
      "text/plain": [
       "<Figure size 432x288 with 1 Axes>"
      ]
     },
     "metadata": {
      "needs_background": "light"
     },
     "output_type": "display_data"
    }
   ],
   "source": [
    "comp=pd.merge(depthv3XC,depthv2,on='pct').set_index('pct').rename(columns={'v3depth':'v3','v2depth':'v2'})/1e6\n",
    "comp.index=comp.index*100\n",
    "ax=comp.plot()\n",
    "ax.set_ylabel(\" Market depth in $mm\")\n",
    "ax.set_xlabel(\"Price from spot %\")\n",
    "\n",
    "plt.savefig('output/v2v3comp_cross-section.pdf')\n"
   ]
  },
  {
   "cell_type": "code",
   "execution_count": 12,
   "id": "ec3f5aa0",
   "metadata": {},
   "outputs": [
    {
     "data": {
      "text/html": [
       "<div>\n",
       "<style scoped>\n",
       "    .dataframe tbody tr th:only-of-type {\n",
       "        vertical-align: middle;\n",
       "    }\n",
       "\n",
       "    .dataframe tbody tr th {\n",
       "        vertical-align: top;\n",
       "    }\n",
       "\n",
       "    .dataframe thead th {\n",
       "        text-align: right;\n",
       "    }\n",
       "</style>\n",
       "<table border=\"1\" class=\"dataframe\">\n",
       "  <thead>\n",
       "    <tr style=\"text-align: right;\">\n",
       "      <th></th>\n",
       "      <th>v3depth</th>\n",
       "      <th>pct</th>\n",
       "      <th>v2depth</th>\n",
       "    </tr>\n",
       "  </thead>\n",
       "  <tbody>\n",
       "    <tr>\n",
       "      <th>12</th>\n",
       "      <td>5.449191e+06</td>\n",
       "      <td>0.02</td>\n",
       "      <td>957423.584163</td>\n",
       "    </tr>\n",
       "  </tbody>\n",
       "</table>\n",
       "</div>"
      ],
      "text/plain": [
       "         v3depth   pct        v2depth\n",
       "12  5.449191e+06  0.02  957423.584163"
      ]
     },
     "execution_count": 12,
     "metadata": {},
     "output_type": "execute_result"
    }
   ],
   "source": [
    "comp.loc[comp.pct==.02]"
   ]
  },
  {
   "cell_type": "code",
   "execution_count": 20,
   "id": "7bd5e075",
   "metadata": {},
   "outputs": [],
   "source": [
    "liqtmp['price_t']=1/(liqtmp.pa/10**(decimals1-decimals0))"
   ]
  },
  {
   "cell_type": "code",
   "execution_count": 24,
   "id": "46e26da9",
   "metadata": {},
   "outputs": [
    {
     "data": {
      "text/plain": [
       "<AxesSubplot:xlabel='price_t'>"
      ]
     },
     "execution_count": 24,
     "metadata": {},
     "output_type": "execute_result"
    },
    {
     "data": {
      "image/png": "[encoded data removed]",
      "text/plain": [
       "<Figure size 432x288 with 1 Axes>"
      ]
     },
     "metadata": {
      "needs_background": "light"
     },
     "output_type": "display_data"
    }
   ],
   "source": [
    "liqtmp.loc[(liqtmp.price_t>liqtmp.price*.5) & (liqtmp.price_t<liqtmp.price*1.5)].set_index('price_t').liqX.plot()"
   ]
  },
  {
   "cell_type": "markdown",
   "id": "f37ffb1c",
   "metadata": {},
   "source": [
    "## Time series comparison"
   ]
  },
  {
   "cell_type": "code",
   "execution_count": 10,
   "id": "99be2f2e",
   "metadata": {},
   "outputs": [
    {
     "name": "stdout",
     "output_type": "stream",
     "text": [
      "USDC 6 WETH 18 3000 60\n"
     ]
    },
    {
     "name": "stderr",
     "output_type": "stream",
     "text": [
      "100%|█████████████████████████████████████████████| 2/2 [00:01<00:00,  1.18it/s]\n"
     ]
    }
   ],
   "source": [
    "md = pipeMarketDepth(address=address,pctchg=[-.02,.02])\n"
   ]
  },
  {
   "cell_type": "code",
   "execution_count": 13,
   "id": "e1e1128c",
   "metadata": {},
   "outputs": [],
   "source": [
    "v2d= getV2EquivalentDepthfromV3(dfm,ts=ts,decimals0=decimals0,decimals1=decimals1,delta=[-.02,.02])\n",
    "\n",
    "#v2d = pd.DataFrame(v2d.groupby(['date','block_number']).v2depth.sum()).reset_index()"
   ]
  },
  {
   "cell_type": "code",
   "execution_count": 14,
   "id": "8b38dbd9",
   "metadata": {},
   "outputs": [
    {
     "data": {
      "text/html": [
       "<div>\n",
       "<style scoped>\n",
       "    .dataframe tbody tr th:only-of-type {\n",
       "        vertical-align: middle;\n",
       "    }\n",
       "\n",
       "    .dataframe tbody tr th {\n",
       "        vertical-align: top;\n",
       "    }\n",
       "\n",
       "    .dataframe thead th {\n",
       "        text-align: right;\n",
       "    }\n",
       "</style>\n",
       "<table border=\"1\" class=\"dataframe\">\n",
       "  <thead>\n",
       "    <tr style=\"text-align: right;\">\n",
       "      <th></th>\n",
       "      <th>pct</th>\n",
       "      <th>v2depth</th>\n",
       "      <th>date</th>\n",
       "      <th>block_number</th>\n",
       "    </tr>\n",
       "  </thead>\n",
       "  <tbody>\n",
       "    <tr>\n",
       "      <th>0</th>\n",
       "      <td>-0.02</td>\n",
       "      <td>81560.102134</td>\n",
       "      <td>2021-05-05</td>\n",
       "      <td>12377369</td>\n",
       "    </tr>\n",
       "    <tr>\n",
       "      <th>1</th>\n",
       "      <td>0.02</td>\n",
       "      <td>79149.359745</td>\n",
       "      <td>2021-05-05</td>\n",
       "      <td>12377369</td>\n",
       "    </tr>\n",
       "    <tr>\n",
       "      <th>0</th>\n",
       "      <td>-0.02</td>\n",
       "      <td>279992.748742</td>\n",
       "      <td>2021-05-06</td>\n",
       "      <td>12383828</td>\n",
       "    </tr>\n",
       "    <tr>\n",
       "      <th>1</th>\n",
       "      <td>0.02</td>\n",
       "      <td>271716.761216</td>\n",
       "      <td>2021-05-06</td>\n",
       "      <td>12383828</td>\n",
       "    </tr>\n",
       "    <tr>\n",
       "      <th>0</th>\n",
       "      <td>-0.02</td>\n",
       "      <td>330920.897083</td>\n",
       "      <td>2021-05-07</td>\n",
       "      <td>12390292</td>\n",
       "    </tr>\n",
       "    <tr>\n",
       "      <th>...</th>\n",
       "      <td>...</td>\n",
       "      <td>...</td>\n",
       "      <td>...</td>\n",
       "      <td>...</td>\n",
       "    </tr>\n",
       "    <tr>\n",
       "      <th>1</th>\n",
       "      <td>0.02</td>\n",
       "      <td>954116.775063</td>\n",
       "      <td>2022-02-20</td>\n",
       "      <td>14246045</td>\n",
       "    </tr>\n",
       "    <tr>\n",
       "      <th>0</th>\n",
       "      <td>-0.02</td>\n",
       "      <td>974016.044451</td>\n",
       "      <td>2022-02-21</td>\n",
       "      <td>14252516</td>\n",
       "    </tr>\n",
       "    <tr>\n",
       "      <th>1</th>\n",
       "      <td>0.02</td>\n",
       "      <td>945226.210890</td>\n",
       "      <td>2022-02-21</td>\n",
       "      <td>14252516</td>\n",
       "    </tr>\n",
       "    <tr>\n",
       "      <th>0</th>\n",
       "      <td>-0.02</td>\n",
       "      <td>986584.927043</td>\n",
       "      <td>2022-02-22</td>\n",
       "      <td>14258800</td>\n",
       "    </tr>\n",
       "    <tr>\n",
       "      <th>1</th>\n",
       "      <td>0.02</td>\n",
       "      <td>957423.584163</td>\n",
       "      <td>2022-02-22</td>\n",
       "      <td>14258800</td>\n",
       "    </tr>\n",
       "  </tbody>\n",
       "</table>\n",
       "<p>588 rows × 4 columns</p>\n",
       "</div>"
      ],
      "text/plain": [
       "     pct        v2depth        date  block_number\n",
       "0  -0.02   81560.102134  2021-05-05      12377369\n",
       "1   0.02   79149.359745  2021-05-05      12377369\n",
       "0  -0.02  279992.748742  2021-05-06      12383828\n",
       "1   0.02  271716.761216  2021-05-06      12383828\n",
       "0  -0.02  330920.897083  2021-05-07      12390292\n",
       "..   ...            ...         ...           ...\n",
       "1   0.02  954116.775063  2022-02-20      14246045\n",
       "0  -0.02  974016.044451  2022-02-21      14252516\n",
       "1   0.02  945226.210890  2022-02-21      14252516\n",
       "0  -0.02  986584.927043  2022-02-22      14258800\n",
       "1   0.02  957423.584163  2022-02-22      14258800\n",
       "\n",
       "[588 rows x 4 columns]"
      ]
     },
     "execution_count": 14,
     "metadata": {},
     "output_type": "execute_result"
    }
   ],
   "source": [
    "v2d"
   ]
  },
  {
   "cell_type": "code",
   "execution_count": 15,
   "id": "a41ac6ec",
   "metadata": {},
   "outputs": [
    {
     "data": {
      "text/html": [
       "<div>\n",
       "<style scoped>\n",
       "    .dataframe tbody tr th:only-of-type {\n",
       "        vertical-align: middle;\n",
       "    }\n",
       "\n",
       "    .dataframe tbody tr th {\n",
       "        vertical-align: top;\n",
       "    }\n",
       "\n",
       "    .dataframe thead th {\n",
       "        text-align: right;\n",
       "    }\n",
       "</style>\n",
       "<table border=\"1\" class=\"dataframe\">\n",
       "  <thead>\n",
       "    <tr style=\"text-align: right;\">\n",
       "      <th></th>\n",
       "      <th>marketdepth</th>\n",
       "      <th>pct</th>\n",
       "      <th>date</th>\n",
       "      <th>block_number</th>\n",
       "    </tr>\n",
       "  </thead>\n",
       "  <tbody>\n",
       "    <tr>\n",
       "      <th>0</th>\n",
       "      <td>3.314937e+05</td>\n",
       "      <td>-0.02</td>\n",
       "      <td>2021-05-05</td>\n",
       "      <td>12377369</td>\n",
       "    </tr>\n",
       "    <tr>\n",
       "      <th>1</th>\n",
       "      <td>3.411260e+05</td>\n",
       "      <td>0.02</td>\n",
       "      <td>2021-05-05</td>\n",
       "      <td>12377369</td>\n",
       "    </tr>\n",
       "    <tr>\n",
       "      <th>2</th>\n",
       "      <td>2.503745e+06</td>\n",
       "      <td>-0.02</td>\n",
       "      <td>2021-05-06</td>\n",
       "      <td>12383828</td>\n",
       "    </tr>\n",
       "    <tr>\n",
       "      <th>3</th>\n",
       "      <td>2.444560e+06</td>\n",
       "      <td>0.02</td>\n",
       "      <td>2021-05-06</td>\n",
       "      <td>12383828</td>\n",
       "    </tr>\n",
       "    <tr>\n",
       "      <th>4</th>\n",
       "      <td>4.192218e+06</td>\n",
       "      <td>-0.02</td>\n",
       "      <td>2021-05-07</td>\n",
       "      <td>12390292</td>\n",
       "    </tr>\n",
       "    <tr>\n",
       "      <th>...</th>\n",
       "      <td>...</td>\n",
       "      <td>...</td>\n",
       "      <td>...</td>\n",
       "      <td>...</td>\n",
       "    </tr>\n",
       "    <tr>\n",
       "      <th>583</th>\n",
       "      <td>5.044918e+06</td>\n",
       "      <td>0.02</td>\n",
       "      <td>2022-02-20</td>\n",
       "      <td>14246045</td>\n",
       "    </tr>\n",
       "    <tr>\n",
       "      <th>584</th>\n",
       "      <td>5.199893e+06</td>\n",
       "      <td>-0.02</td>\n",
       "      <td>2022-02-21</td>\n",
       "      <td>14252516</td>\n",
       "    </tr>\n",
       "    <tr>\n",
       "      <th>585</th>\n",
       "      <td>5.049154e+06</td>\n",
       "      <td>0.02</td>\n",
       "      <td>2022-02-21</td>\n",
       "      <td>14252516</td>\n",
       "    </tr>\n",
       "    <tr>\n",
       "      <th>586</th>\n",
       "      <td>5.579712e+06</td>\n",
       "      <td>-0.02</td>\n",
       "      <td>2022-02-22</td>\n",
       "      <td>14258800</td>\n",
       "    </tr>\n",
       "    <tr>\n",
       "      <th>587</th>\n",
       "      <td>5.449191e+06</td>\n",
       "      <td>0.02</td>\n",
       "      <td>2022-02-22</td>\n",
       "      <td>14258800</td>\n",
       "    </tr>\n",
       "  </tbody>\n",
       "</table>\n",
       "<p>588 rows × 4 columns</p>\n",
       "</div>"
      ],
      "text/plain": [
       "      marketdepth   pct       date  block_number\n",
       "0    3.314937e+05 -0.02 2021-05-05      12377369\n",
       "1    3.411260e+05  0.02 2021-05-05      12377369\n",
       "2    2.503745e+06 -0.02 2021-05-06      12383828\n",
       "3    2.444560e+06  0.02 2021-05-06      12383828\n",
       "4    4.192218e+06 -0.02 2021-05-07      12390292\n",
       "..            ...   ...        ...           ...\n",
       "583  5.044918e+06  0.02 2022-02-20      14246045\n",
       "584  5.199893e+06 -0.02 2022-02-21      14252516\n",
       "585  5.049154e+06  0.02 2022-02-21      14252516\n",
       "586  5.579712e+06 -0.02 2022-02-22      14258800\n",
       "587  5.449191e+06  0.02 2022-02-22      14258800\n",
       "\n",
       "[588 rows x 4 columns]"
      ]
     },
     "execution_count": 15,
     "metadata": {},
     "output_type": "execute_result"
    }
   ],
   "source": [
    "md"
   ]
  },
  {
   "cell_type": "code",
   "execution_count": 16,
   "id": "63c779aa",
   "metadata": {},
   "outputs": [],
   "source": [
    "dc=pd.merge(md, v2d,on=['block_number','pct'],how='inner')"
   ]
  },
  {
   "cell_type": "code",
   "execution_count": null,
   "id": "b4cd4129",
   "metadata": {},
   "outputs": [],
   "source": []
  },
  {
   "cell_type": "code",
   "execution_count": 43,
   "id": "6b8e1fcb",
   "metadata": {},
   "outputs": [
    {
     "data": {
      "image/png": "[encoded data removed]",
      "text/plain": [
       "<Figure size 432x288 with 1 Axes>"
      ]
     },
     "metadata": {
      "needs_background": "light"
     },
     "output_type": "display_data"
    }
   ],
   "source": [
    "dfp=dc.groupby('date_x')[['marketdepth','v2depth']].sum().rolling(7).mean().rename(columns={'marketdepth':'v3','v2depth':'v2'})/1e6\n",
    "ax=dfp.plot()\n",
    "ax.set_ylabel(\" +/- 2% market depth in $mm\")\n",
    "\n",
    "plt.savefig('output/v2v3comp.pdf')\n"
   ]
  },
  {
   "cell_type": "code",
   "execution_count": 17,
   "id": "49eb8c51",
   "metadata": {},
   "outputs": [
    {
     "data": {
      "text/plain": [
       "<AxesSubplot:xlabel='date_x'>"
      ]
     },
     "execution_count": 17,
     "metadata": {},
     "output_type": "execute_result"
    },
    {
     "data": {
      "image/png": "[encoded data removed]",
      "text/plain": [
       "<Figure size 432x288 with 1 Axes>"
      ]
     },
     "metadata": {
      "needs_background": "light"
     },
     "output_type": "display_data"
    }
   ],
   "source": [
    "dc.loc[dc.pct==.02].set_index('date_x')[['marketdepth','v2depth']].plot()"
   ]
  },
  {
   "cell_type": "code",
   "execution_count": null,
   "id": "34eb9a34",
   "metadata": {},
   "outputs": [],
   "source": []
  }
 ],
 "metadata": {
  "kernelspec": {
   "display_name": "Python 3 (ipykernel)",
   "language": "python",
   "name": "python3"
  },
  "language_info": {
   "codemirror_mode": {
    "name": "ipython",
    "version": 3
   },
   "file_extension": ".py",
   "mimetype": "text/x-python",
   "name": "python",
   "nbconvert_exporter": "python",
   "pygments_lexer": "ipython3",
   "version": "3.9.7"
  }
 },
 "nbformat": 4,
 "nbformat_minor": 5
}
